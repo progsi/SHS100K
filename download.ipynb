{
 "cells": [
  {
   "cell_type": "code",
   "execution_count": null,
   "id": "d68fdc3a",
   "metadata": {},
   "outputs": [],
   "source": [
    "from __future__ import unicode_literals\n",
    "import youtube_dl\n",
    "import os\n",
    "import pandas as pd"
   ]
  },
  {
   "attachments": {},
   "cell_type": "markdown",
   "id": "canadian-biotechnology",
   "metadata": {},
   "source": [
    "## Script for Youtube Download"
   ]
  },
  {
   "cell_type": "code",
   "execution_count": null,
   "id": "343ab18e",
   "metadata": {},
   "outputs": [],
   "source": [
    "class MyLogger(object):\n",
    "    def debug(self, msg):\n",
    "        pass\n",
    "\n",
    "    def warning(self, msg):\n",
    "        pass\n",
    "\n",
    "    def error(self, msg):\n",
    "        print(msg)\n",
    "\n",
    "\n",
    "def my_hook(d):\n",
    "    if d['status'] == 'finished':\n",
    "        print('Done downloading, now converting ...')\n",
    "\n",
    "def download_clip(url, name, outdir):\n",
    "\n",
    "    filename = os.path.join(outdir,name)\n",
    "\n",
    "    ydl_opts = {\n",
    "        'format': 'bestaudio/best',\n",
    "        'outtmpl': filename,\n",
    "        'noplaylist': True,\n",
    "        'continue_dl': True,\n",
    "        'postprocessors': [{\n",
    "            'key': 'FFmpegExtractAudio',\n",
    "            'preferredcodec': 'mp3',\n",
    "            'preferredquality': '192', }],\n",
    "        'logger': MyLogger(),\n",
    "        'progress_hooks': [my_hook],\n",
    "    }\n",
    "    try:\n",
    "        with youtube_dl.YoutubeDL(ydl_opts) as ydl:\n",
    "            ydl.cache.remove()\n",
    "            info_dict = ydl.extract_info(url, download=False)\n",
    "            ydl.prepare_filename(info_dict)\n",
    "            ydl.download([url])\n",
    "            return True\n",
    "    except Exception:\n",
    "        return False"
   ]
  },
  {
   "attachments": {},
   "cell_type": "markdown",
   "id": "sporting-batch",
   "metadata": {},
   "source": [
    "### Donwload youtube songs"
   ]
  },
  {
   "cell_type": "code",
   "execution_count": null,
   "id": "8c255dfe",
   "metadata": {},
   "outputs": [],
   "source": [
    "filelist = \"list.csv\"\n",
    "outdir = \"/mnt/dev/dirceusilva/dados/Cover/SHS100k\"\n"
   ]
  },
  {
   "cell_type": "code",
   "execution_count": null,
   "id": "8ff43456",
   "metadata": {},
   "outputs": [],
   "source": [
    "list_songs_df = pd.read_csv(filelist, sep='\\t', names=[\"set_id\", \"ver_id\", \"title\", \"performer\", \"url\", \"status\"], header=None)\n"
   ]
  },
  {
   "cell_type": "code",
   "execution_count": null,
   "id": "798c1e26",
   "metadata": {},
   "outputs": [],
   "source": [
    "index_failed=[]\n",
    "for k in range(107205,len(list_songs_df)): #\n",
    "    row = list_songs_df.iloc[k]\n",
    "    print(\"{:d} de {:d} - {} - {}\".format(k, len(list_songs_df), row[\"set_id\"], row[\"ver_id\"]))\n",
    "    dirout = os.path.join(outdir, str(row[\"set_id\"]))\n",
    "    \n",
    "    try:\n",
    "        os.mkdir(dirout)\n",
    "    except:\n",
    "        print(\"Creation of the directory {} failed\".format(row[\"set_id\"]))\n",
    "        \n",
    "    name = str(row[\"ver_id\"])+ '.%(ext)s'\n",
    "    if not download_clip(row[\"url\"], name, dirout):\n",
    "        index_failed.append(k)"
   ]
  },
  {
   "cell_type": "code",
   "execution_count": null,
   "id": "87a331b3",
   "metadata": {},
   "outputs": [],
   "source": [
    "print(len(index_failed))\n"
   ]
  },
  {
   "cell_type": "code",
   "execution_count": 4,
   "id": "819eeca8",
   "metadata": {},
   "outputs": [],
   "source": [
    "import pandas as pd\n",
    "\n",
    "shs100k = pd.read_csv(\"list.csv\", sep='\\t', header=None)"
   ]
  },
  {
   "cell_type": "code",
   "execution_count": 6,
   "id": "483a81e0",
   "metadata": {},
   "outputs": [],
   "source": [
    "shs100k.columns=[\"set_id\", \"ver_id\", \"title\", \"performer\", \"url\", \"status\"]"
   ]
  },
  {
   "cell_type": "code",
   "execution_count": 9,
   "id": "602fac10",
   "metadata": {},
   "outputs": [],
   "source": [
    "test = pd.read_csv(\"SHS100K-TEST\", sep='\\t', header=None)\n",
    "test.columns = [\"set_id\", \"ver_id\"]\n",
    "train = pd.read_csv(\"SHS100K-TRAIN\", sep='\\t', header=None)\n",
    "train.columns = [\"set_id\", \"ver_id\"]\n",
    "val = pd.read_csv(\"SHS100K-VAL\", sep='\\t', header=None)\n",
    "val.columns = [\"set_id\", \"ver_id\"]\n"
   ]
  },
  {
   "cell_type": "code",
   "execution_count": 11,
   "id": "c8f3bd2f",
   "metadata": {},
   "outputs": [],
   "source": [
    "train[\"subset\"] = \"TRAIN\"\n",
    "test[\"subset\"] = \"TEST\"\n",
    "val[\"subset\"] = \"VAL\"\n",
    "\n"
   ]
  },
  {
   "cell_type": "code",
   "execution_count": null,
   "id": "6c00b09e",
   "metadata": {},
   "outputs": [],
   "source": []
  },
  {
   "cell_type": "code",
   "execution_count": 13,
   "id": "d9e840a8",
   "metadata": {},
   "outputs": [],
   "source": [
    "shs100k = pd.merge(\n",
    "    pd.merge(\n",
    "        pd.merge(shs100k, train, on=[\"set_id\", \"ver_id\"], how='left'), val, on=[\"set_id\", \"ver_id\"], how='left'), \n",
    "         test, on=[\"set_id\", \"ver_id\"], how='left')"
   ]
  },
  {
   "cell_type": "code",
   "execution_count": 21,
   "id": "b6adba9b",
   "metadata": {},
   "outputs": [],
   "source": [
    "import numpy as np\n",
    "\n",
    "def get_subset(x):\n",
    "    if x.subset_x not in [None, np.nan, \"NaN\"]:\n",
    "        return x.subset_x\n",
    "    elif x.subset_y not in [None, np.nan, \"NaN\"]:\n",
    "        return x.subset_y\n",
    "    elif x.subset not in [None, np.nan, \"NaN\"]:\n",
    "        return x.subset\n",
    "    \n",
    "\n",
    "shs100k[\"subset\"] = shs100k.apply(lambda x: get_subset(x), axis=1)"
   ]
  },
  {
   "cell_type": "code",
   "execution_count": 24,
   "id": "f48c2e0b",
   "metadata": {},
   "outputs": [],
   "source": [
    "shs100k = shs100k.drop([\"subset_x\", \"subset_y\"], axis=1)"
   ]
  },
  {
   "cell_type": "code",
   "execution_count": 51,
   "id": "fa898295",
   "metadata": {},
   "outputs": [],
   "source": [
    "train[\"joined_id\"] = train[\"set_id\"].astype(str) + '_' + train[\"ver_id\"].astype(str)\n",
    "test[\"joined_id\"] = test[\"set_id\"].astype(str) + '_' + test[\"ver_id\"].astype(str)\n",
    "val[\"joined_id\"] = val[\"set_id\"].astype(str) + '_' + val[\"ver_id\"].astype(str)\n",
    "\n",
    "\n",
    "def get_subset(x):\n",
    "    \n",
    "    joined_id = str(x.set_id) + '_' + str(x.ver_id)\n",
    "    if joined_id in train[\"joined_id\"].values:\n",
    "        return \"TRAIN\"\n",
    "    elif joined_id in test[\"joined_id\"].values:\n",
    "        return \"TEST\"\n",
    "    elif joined_id in val[\"joined_id\"].values:\n",
    "        return \"VAL\"\n",
    "    "
   ]
  },
  {
   "cell_type": "code",
   "execution_count": 52,
   "id": "ca7365bc",
   "metadata": {},
   "outputs": [],
   "source": [
    "shs100k[\"subset\"] = shs100k.apply(lambda x: get_subset(x), axis=1)"
   ]
  },
  {
   "cell_type": "code",
   "execution_count": 58,
   "id": "6bea6b25",
   "metadata": {},
   "outputs": [],
   "source": [
    "shs100k.to_csv(\"shs100k.csv\", sep=';')"
   ]
  },
  {
   "cell_type": "code",
   "execution_count": null,
   "id": "56ae0bc5",
   "metadata": {},
   "outputs": [],
   "source": [
    "pd.read_csv"
   ]
  },
  {
   "cell_type": "code",
   "execution_count": 59,
   "id": "7969ebf8",
   "metadata": {},
   "outputs": [
    {
     "data": {
      "text/html": [
       "<div>\n",
       "<style scoped>\n",
       "    .dataframe tbody tr th:only-of-type {\n",
       "        vertical-align: middle;\n",
       "    }\n",
       "\n",
       "    .dataframe tbody tr th {\n",
       "        vertical-align: top;\n",
       "    }\n",
       "\n",
       "    .dataframe thead th {\n",
       "        text-align: right;\n",
       "    }\n",
       "</style>\n",
       "<table border=\"1\" class=\"dataframe\">\n",
       "  <thead>\n",
       "    <tr style=\"text-align: right;\">\n",
       "      <th></th>\n",
       "      <th>set_id</th>\n",
       "      <th>ver_id</th>\n",
       "      <th>title</th>\n",
       "      <th>performer</th>\n",
       "      <th>url</th>\n",
       "      <th>status</th>\n",
       "      <th>subset</th>\n",
       "    </tr>\n",
       "  </thead>\n",
       "  <tbody>\n",
       "    <tr>\n",
       "      <th>0</th>\n",
       "      <td>0</td>\n",
       "      <td>0</td>\n",
       "      <td>Summertime</td>\n",
       "      <td>Abbie Mitchell</td>\n",
       "      <td>https://www.youtube.com/watch?v=TMHWEcSKEPI</td>\n",
       "      <td>True</td>\n",
       "      <td>TRAIN</td>\n",
       "    </tr>\n",
       "    <tr>\n",
       "      <th>1</th>\n",
       "      <td>0</td>\n",
       "      <td>1</td>\n",
       "      <td>Summertime</td>\n",
       "      <td>Helen Jepson</td>\n",
       "      <td>https://www.youtube.com/watch?v=E3lw8gaHs04</td>\n",
       "      <td>True</td>\n",
       "      <td>TRAIN</td>\n",
       "    </tr>\n",
       "    <tr>\n",
       "      <th>2</th>\n",
       "      <td>0</td>\n",
       "      <td>2</td>\n",
       "      <td>Summertime</td>\n",
       "      <td>Billie Holiday and Her Orchestra</td>\n",
       "      <td>https://www.youtube.com/watch?v=aPpJPTJc1lU</td>\n",
       "      <td>True</td>\n",
       "      <td>TRAIN</td>\n",
       "    </tr>\n",
       "    <tr>\n",
       "      <th>3</th>\n",
       "      <td>0</td>\n",
       "      <td>3</td>\n",
       "      <td>Summertime</td>\n",
       "      <td>Jerry Kruger and Her Orchestra</td>\n",
       "      <td>https://www.youtube.com/watch?v=J9JctRqcDso</td>\n",
       "      <td>True</td>\n",
       "      <td>TRAIN</td>\n",
       "    </tr>\n",
       "    <tr>\n",
       "      <th>4</th>\n",
       "      <td>0</td>\n",
       "      <td>4</td>\n",
       "      <td>Overture and Summertime</td>\n",
       "      <td>Anne Brown</td>\n",
       "      <td>https://www.youtube.com/watch?v=R44waInkjgI</td>\n",
       "      <td>True</td>\n",
       "      <td>TRAIN</td>\n",
       "    </tr>\n",
       "    <tr>\n",
       "      <th>...</th>\n",
       "      <td>...</td>\n",
       "      <td>...</td>\n",
       "      <td>...</td>\n",
       "      <td>...</td>\n",
       "      <td>...</td>\n",
       "      <td>...</td>\n",
       "      <td>...</td>\n",
       "    </tr>\n",
       "    <tr>\n",
       "      <th>116348</th>\n",
       "      <td>9994</td>\n",
       "      <td>1</td>\n",
       "      <td>Sytten ti</td>\n",
       "      <td>Otto Brandenburg</td>\n",
       "      <td>https://www.youtube.com/watch?v=EVsRN0eDGNc</td>\n",
       "      <td>True</td>\n",
       "      <td>VAL</td>\n",
       "    </tr>\n",
       "    <tr>\n",
       "      <th>116349</th>\n",
       "      <td>9996</td>\n",
       "      <td>0</td>\n",
       "      <td>We Want the Airwaves</td>\n",
       "      <td>Ramones</td>\n",
       "      <td>https://www.youtube.com/watch?v=VJ5X721ABs4</td>\n",
       "      <td>True</td>\n",
       "      <td>VAL</td>\n",
       "    </tr>\n",
       "    <tr>\n",
       "      <th>116350</th>\n",
       "      <td>9998</td>\n",
       "      <td>0</td>\n",
       "      <td>I Don't Care</td>\n",
       "      <td>Ramones</td>\n",
       "      <td>https://www.youtube.com/watch?v=QveJv7V4OZI</td>\n",
       "      <td>True</td>\n",
       "      <td>VAL</td>\n",
       "    </tr>\n",
       "    <tr>\n",
       "      <th>116351</th>\n",
       "      <td>9998</td>\n",
       "      <td>1</td>\n",
       "      <td>I Don't Care</td>\n",
       "      <td>The Flatmates</td>\n",
       "      <td>https://www.youtube.com/watch?v=6L8jlQfp3wA</td>\n",
       "      <td>True</td>\n",
       "      <td>VAL</td>\n",
       "    </tr>\n",
       "    <tr>\n",
       "      <th>116352</th>\n",
       "      <td>9998</td>\n",
       "      <td>2</td>\n",
       "      <td>I Don't Care</td>\n",
       "      <td>The Queers</td>\n",
       "      <td>https://www.youtube.com/watch?v=-t8fkmDlRk8</td>\n",
       "      <td>True</td>\n",
       "      <td>VAL</td>\n",
       "    </tr>\n",
       "  </tbody>\n",
       "</table>\n",
       "<p>116353 rows × 7 columns</p>\n",
       "</div>"
      ],
      "text/plain": [
       "        set_id  ver_id                    title  \\\n",
       "0            0       0               Summertime   \n",
       "1            0       1               Summertime   \n",
       "2            0       2               Summertime   \n",
       "3            0       3               Summertime   \n",
       "4            0       4  Overture and Summertime   \n",
       "...        ...     ...                      ...   \n",
       "116348    9994       1                Sytten ti   \n",
       "116349    9996       0     We Want the Airwaves   \n",
       "116350    9998       0             I Don't Care   \n",
       "116351    9998       1             I Don't Care   \n",
       "116352    9998       2             I Don't Care   \n",
       "\n",
       "                               performer  \\\n",
       "0                         Abbie Mitchell   \n",
       "1                           Helen Jepson   \n",
       "2       Billie Holiday and Her Orchestra   \n",
       "3         Jerry Kruger and Her Orchestra   \n",
       "4                             Anne Brown   \n",
       "...                                  ...   \n",
       "116348                  Otto Brandenburg   \n",
       "116349                           Ramones   \n",
       "116350                           Ramones   \n",
       "116351                     The Flatmates   \n",
       "116352                        The Queers   \n",
       "\n",
       "                                                url  status subset  \n",
       "0       https://www.youtube.com/watch?v=TMHWEcSKEPI    True  TRAIN  \n",
       "1       https://www.youtube.com/watch?v=E3lw8gaHs04    True  TRAIN  \n",
       "2       https://www.youtube.com/watch?v=aPpJPTJc1lU    True  TRAIN  \n",
       "3       https://www.youtube.com/watch?v=J9JctRqcDso    True  TRAIN  \n",
       "4       https://www.youtube.com/watch?v=R44waInkjgI    True  TRAIN  \n",
       "...                                             ...     ...    ...  \n",
       "116348  https://www.youtube.com/watch?v=EVsRN0eDGNc    True    VAL  \n",
       "116349  https://www.youtube.com/watch?v=VJ5X721ABs4    True    VAL  \n",
       "116350  https://www.youtube.com/watch?v=QveJv7V4OZI    True    VAL  \n",
       "116351  https://www.youtube.com/watch?v=6L8jlQfp3wA    True    VAL  \n",
       "116352  https://www.youtube.com/watch?v=-t8fkmDlRk8    True    VAL  \n",
       "\n",
       "[116353 rows x 7 columns]"
      ]
     },
     "execution_count": 59,
     "metadata": {},
     "output_type": "execute_result"
    }
   ],
   "source": [
    "shs100k"
   ]
  },
  {
   "attachments": {},
   "cell_type": "markdown",
   "id": "preceding-aircraft",
   "metadata": {},
   "source": [
    "## Convert  Wav to MP3"
   ]
  },
  {
   "cell_type": "code",
   "execution_count": null,
   "id": "727d3d49",
   "metadata": {},
   "outputs": [],
   "source": [
    "import glob\n",
    "\n",
    "direct = '/mnt/dev/dirceusilva/dados/Cover/SHS100k'\n",
    "#direct = '/home/dirceusilva/Documents/Test'\n",
    "\n",
    "all_files = glob.glob(os.path.join(direct,'**/*.wav'))\n",
    "\n",
    "for k,f in enumerate(all_files):\n",
    "    print(\"{:d} - {:d} - {} \".format(k,len(all_files), f))\n",
    "    \n",
    "    fileout = f[:-3]+ \"mp3\"\n",
    "\n",
    "    !lame --silent {f} {fileout}\n",
    "    if os.path.exists(fileout):\n",
    "        #print(\"converted\")\n",
    "        os.remove(f)\n",
    "    \n",
    "\n"
   ]
  },
  {
   "attachments": {},
   "cell_type": "markdown",
   "id": "provincial-magnet",
   "metadata": {},
   "source": [
    "## List Failed  Downloads"
   ]
  },
  {
   "cell_type": "code",
   "execution_count": null,
   "id": "round-bracket",
   "metadata": {},
   "outputs": [],
   "source": [
    "filelist = \"list.csv\"\n",
    "outdir = '/mnt/dataset/public/covers/SHS100k'\n"
   ]
  },
  {
   "cell_type": "code",
   "execution_count": null,
   "id": "reduced-purple",
   "metadata": {},
   "outputs": [],
   "source": [
    "list_songs_df = pd.read_csv(filelist, sep='\\t', names=[\"set_id\", \"ver_id\", \"title\", \"performer\", \"url\", \"status\"], header=None)\n"
   ]
  },
  {
   "cell_type": "code",
   "execution_count": null,
   "id": "beginning-graduation",
   "metadata": {},
   "outputs": [],
   "source": [
    "index_failed=[]\n",
    "\n",
    "for k in range(len(list_songs_df)):\n",
    "    row = list_songs_df.iloc[k]\n",
    "    print(\"{:d} de {:d} - {} - {}\".format(k, len(list_songs_df), row[\"set_id\"], row[\"ver_id\"]))\n",
    "    dirout = os.path.join(outdir, str(row[\"set_id\"])) \n",
    "\n",
    "    filepath = os.path.join(dirout,str(row[\"ver_id\"])+ '.mp3')\n",
    "    \n",
    "    if not os.path.exists(filepath):\n",
    "        try:\n",
    "            os.mkdir(dirout)\n",
    "        except:\n",
    "            print(\"Creation of the directory {} failed\".format(row[\"set_id\"]))\n",
    "            \n",
    "        name = str(row[\"ver_id\"])+ '.%(ext)s'\n",
    "        if not download_clip(row[\"url\"], name, dirout):\n",
    "            index_failed.append((k, row[\"url\"]))\n"
   ]
  },
  {
   "attachments": {},
   "cell_type": "markdown",
   "id": "broke-benjamin",
   "metadata": {},
   "source": [
    "### Save List of Failed Downloads"
   ]
  },
  {
   "cell_type": "code",
   "execution_count": null,
   "id": "responsible-scope",
   "metadata": {},
   "outputs": [],
   "source": [
    "index = []\n",
    "for k, url_y in index_failed:\n",
    "    index.append(k)"
   ]
  },
  {
   "cell_type": "code",
   "execution_count": null,
   "id": "polar-saskatchewan",
   "metadata": {},
   "outputs": [],
   "source": [
    "df_1 = list_songs_df.iloc[index]"
   ]
  },
  {
   "cell_type": "code",
   "execution_count": null,
   "id": "ordered-glance",
   "metadata": {},
   "outputs": [],
   "source": [
    "df_1.to_csv(\"list_failed.csv\", sep=\";\", header=False)"
   ]
  },
  {
   "cell_type": "code",
   "execution_count": null,
   "id": "ordinary-appreciation",
   "metadata": {},
   "outputs": [],
   "source": []
  }
 ],
 "metadata": {
  "kernelspec": {
   "display_name": "SHS100K",
   "language": "python",
   "name": "python3"
  },
  "language_info": {
   "codemirror_mode": {
    "name": "ipython",
    "version": 3
   },
   "file_extension": ".py",
   "mimetype": "text/x-python",
   "name": "python",
   "nbconvert_exporter": "python",
   "pygments_lexer": "ipython3",
   "version": "3.10.9"
  }
 },
 "nbformat": 4,
 "nbformat_minor": 5
}
